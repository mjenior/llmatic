





# Import core class
from promptpal.core import CreateAgent


# Prompt engineering expert
prompter1 = CreateAgent(role="prompt", refine=True, iterations=5, keywords=['expand','amplify'])
prompter2 = CreateAgent(role="prompt", refine=True, keywords=['clarify','streamline'])
prompter3 = CreateAgent(role="prompt", refine=True, glyph=True)
assistant = CreateAgent()


initial_prompt = """

"""


prompter1.chat(initial_prompt)


initial_prompt = """

"""


prompter2.chat("Further refine the updated prompt.")





prompter3.chat("Finalize the now refined prompt.")


finalized_prompt = """

"""


# Create baseline response
assistant = CreateAgent(new_chat=True)
assistant.chat(initial_prompt)


# Compare with previous attempt, ensure context is removed
assistant = CreateAgent(new_chat=True)
assistant.chat(finalized_prompt)



