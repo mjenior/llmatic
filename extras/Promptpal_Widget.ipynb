{
 "cells": [
  {
   "cell_type": "markdown",
   "id": "766539b4-f0c5-4fe9-a788-5bc013dee0dd",
   "metadata": {},
   "source": [
    "# PromptPal Widget Example\n",
    "\n",
    "This is an example of how the Propmptpal Widget can be used to create a team of AI assistants that can assist with\n",
    "various tasks. "
   ]
  },
  {
   "cell_type": "code",
   "execution_count": null,
   "id": "83e0fdf6-1b37-4b5d-897f-a9e3dbd6d690",
   "metadata": {},
   "outputs": [],
   "source": [
    "# For local testing\n",
    "!pip install -e ../."
   ]
  },
  {
   "cell_type": "code",
   "execution_count": 1,
   "id": "dbcc311b-e4e5-41e3-b5dd-7d58ba2b6e3d",
   "metadata": {},
   "outputs": [
    {
     "data": {
      "application/vnd.jupyter.widget-view+json": {
       "model_id": "07fafc3275274be0b73b5aa7968128e0",
       "version_major": 2,
       "version_minor": 0
      },
      "text/plain": [
       "Box(children=(HTML(value='<h1>PromptPal</h1>'), Tab(children=(Box(children=(HTML(value='<h2>Select Agent Roles…"
      ]
     },
     "metadata": {},
     "output_type": "display_data"
    }
   ],
   "source": [
    "from promptpal.widgets import PromptpalUI\n",
    "\n",
    "promptpal_ui = PromptpalUI()\n",
    "promptpal_ui.display()\n"
   ]
  },
  {
   "cell_type": "code",
   "execution_count": null,
   "id": "5b94c6fc-ec9a-40bb-a53b-2e004c3a4bdd",
   "metadata": {},
   "outputs": [],
   "source": [
    "team = promptpal_ui.get_team()"
   ]
  },
  {
   "cell_type": "code",
   "execution_count": null,
   "id": "53bd4d61-d65b-43e5-9bab-7d428e7cc6a9",
   "metadata": {},
   "outputs": [],
   "source": [
    "# Have the team write some code. \n",
    "team.chat(\"\"\"\n",
    "Write a Python script to scrape data from a set of webpages and reformat it into a structured dataframe for downstream analysis. \n",
    "The target webpages are product listings on an e-commerce website, and the data to be extracted includes: product name, price, description, and rating. \n",
    "Assume the webpages are accessible and do not require authentication.\n",
    "\n",
    "Requirements:\n",
    "    Use the requests library to fetch the webpage content and BeautifulSoup from bs4 for parsing HTML.\n",
    "    Handle potential issues such as missing data fields (e.g., if a product does not have a rating) gracefully.\n",
    "    Store the scraped data in a pandas dataframe with appropriate column names.\n",
    "    Include basic error handling (e.g., for network issues or invalid URLs).\n",
    "    Ensure the script respects the website's robots.txt file and includes a reasonable delay between requests to avoid overloading the server.\n",
    "    Do not scrape any personally identifiable information (PII) or sensitive data.\n",
    "    Include comments in the code to explain key steps.\n",
    "\n",
    "Example Input:\n",
    "    A list of URLs for product pages on an e-commerce site.\n",
    "\n",
    "Example Output:\n",
    "    A pandas dataframe with columns: product_name, price, description, and rating.\n",
    "\n",
    "Guardrails:\n",
    "    Do not scrape data at a frequency that could be considered abusive or violate the website's terms of service.\n",
    "    Include a disclaimer in the script comments reminding users to check the legality of scraping the target website and to obtain permission if necessary.\n",
    "    Do not hard-code any URLs or sensitive information into the script.\n",
    "\"\"\")"
   ]
  },
  {
   "cell_type": "code",
   "execution_count": null,
   "id": "531556b6-e6ec-4085-8c44-0f9702723366",
   "metadata": {},
   "outputs": [],
   "source": [
    "# Use the team to improve the code it just wrote.\n",
    "team.chat(\"Refactor the previously generated code for optimal efficiency, useability, and documentation.\")"
   ]
  },
  {
   "cell_type": "code",
   "execution_count": null,
   "id": "59f14aa2-6147-44d5-98b9-e4edff1c4d37",
   "metadata": {},
   "outputs": [],
   "source": [
    "# Create unit tests for the code\n",
    "team.chat(\"Generate unit test for the newly optimized code.\")"
   ]
  },
  {
   "cell_type": "code",
   "execution_count": null,
   "id": "c0fe676a-4574-42fe-a01c-a71709b1ee29",
   "metadata": {},
   "outputs": [],
   "source": [
    "# Utilize the writer agent to generate an informed post on the background and utility of the newly created pipeline\n",
    "team.chat(\"\"\"Write a biotechnology blog post about the content of the conversation and refactored code.\n",
    "Include relevant background that would necessitate this type of analysis, and add at least one example use case for the workflow.\n",
    "Extrapolate how the pipeline may be useful in cell engineering efforts, and what future improvements could lead to with continued work.\n",
    "The resulting post should be at least 3 paragraphs long with 4-5 sentences in each.\n",
    "Speak in a conversational tone and cite all sources with biological relevance to you discussion.\n",
    "\"\"\")"
   ]
  },
  {
   "cell_type": "code",
   "execution_count": null,
   "id": "0138ecd4-fb9d-43df-94b5-20a0cd06bdda",
   "metadata": {},
   "outputs": [],
   "source": [
    "# Pass the rough draft text to the editor agent to recieve a more finalize version\n",
    "team.chat(\"Rewrite the previous blog post for maximum readability for a general audience.\")"
   ]
  },
  {
   "cell_type": "code",
   "execution_count": null,
   "id": "98601453-663f-48b0-8edc-b0af095be05d",
   "metadata": {},
   "outputs": [],
   "source": [
    "team.chat(\"Create a Slack announcement for the finalized blog post.\")"
   ]
  },
  {
   "cell_type": "code",
   "execution_count": null,
   "id": "a369811e-e638-4073-97bc-b6e17356b213",
   "metadata": {},
   "outputs": [],
   "source": []
  }
 ],
 "metadata": {
  "kernelspec": {
   "display_name": "Python 3 (ipykernel)",
   "language": "python",
   "name": "python3"
  },
  "language_info": {
   "codemirror_mode": {
    "name": "ipython",
    "version": 3
   },
   "file_extension": ".py",
   "mimetype": "text/x-python",
   "name": "python",
   "nbconvert_exporter": "python",
   "pygments_lexer": "ipython3",
   "version": "3.12.7"
  }
 },
 "nbformat": 4,
 "nbformat_minor": 5
}
