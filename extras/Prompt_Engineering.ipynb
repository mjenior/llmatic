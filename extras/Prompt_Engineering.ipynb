{
 "cells": [
  {
   "cell_type": "markdown",
   "id": "cadb7927-b6ee-423b-9432-6b5905416ba3",
   "metadata": {},
   "source": [
    "# Prompt Engineering Tools"
   ]
  },
  {
   "cell_type": "markdown",
   "id": "a75ca8e4-e55a-4b12-96c9-d9fd13639988",
   "metadata": {},
   "source": [
    "### Promptpal also includes a number of tools for prompt refinement to significantly improve LLM response quality and specificity."
   ]
  },
  {
   "cell_type": "code",
   "execution_count": null,
   "id": "9fa79a9e-a41d-40bc-a815-dc92dc9d5ca7",
   "metadata": {},
   "outputs": [],
   "source": [
    "# Import core class\n",
    "from promptpal.core import CreateAgent"
   ]
  },
  {
   "cell_type": "code",
   "execution_count": null,
   "id": "c445a8d4-cca8-4afd-b10b-b6f57c3fc3fe",
   "metadata": {},
   "outputs": [],
   "source": [
    "# Prompt engineering expert\n",
    "prompter1 = CreateAgent(role=\"prompt\", refine=True, iterations=5, keywords=['expand','amplify'])\n",
    "prompter2 = CreateAgent(role=\"prompt\", refine=True, keywords=['clarify','streamline'])\n",
    "prompter3 = CreateAgent(role=\"prompt\", refine=True, glyph=True)"
   ]
  },
  {
   "cell_type": "code",
   "execution_count": null,
   "id": "808feb08-fcdd-4922-b289-6650132818c4",
   "metadata": {},
   "outputs": [],
   "source": [
    "initial_prompt = \"\"\"\n",
    "Create a Streamlit app for data analysis.\n",
    "\"\"\""
   ]
  },
  {
   "cell_type": "code",
   "execution_count": null,
   "id": "dddf4a96-8122-4846-b323-67d88e19f83b",
   "metadata": {},
   "outputs": [],
   "source": [
    "prompter1.chat(initial_prompt)"
   ]
  },
  {
   "cell_type": "code",
   "execution_count": null,
   "id": "67732d04-06e5-4696-8778-87f3da641669",
   "metadata": {},
   "outputs": [],
   "source": [
    "refined_prompt = \"\"\"\n",
    "\n",
    "\"\"\""
   ]
  },
  {
   "cell_type": "code",
   "execution_count": null,
   "id": "785fa02e-8a23-424f-81be-03d859229642",
   "metadata": {},
   "outputs": [],
   "source": [
    "prompter2.chat(refined_prompt)"
   ]
  },
  {
   "cell_type": "code",
   "execution_count": null,
   "id": "aa6bd521-f418-4c6c-8c02-371f419455cc",
   "metadata": {},
   "outputs": [],
   "source": [
    "refined_prompt = \"\"\"\n",
    "\n",
    "\"\"\""
   ]
  },
  {
   "cell_type": "code",
   "execution_count": null,
   "id": "4a5a5b77-a647-44b6-bfe2-a5d387a35590",
   "metadata": {},
   "outputs": [],
   "source": [
    "prompter3.chat(refined_prompt)"
   ]
  },
  {
   "cell_type": "code",
   "execution_count": null,
   "id": "2b1ea7fb-1a8b-4812-ac1b-ad9c8b353f9c",
   "metadata": {},
   "outputs": [],
   "source": [
    "finalized_prompt = \"\"\"\n",
    "\n",
    "\"\"\""
   ]
  },
  {
   "cell_type": "code",
   "execution_count": null,
   "id": "557cb2c6-3eeb-4dff-a294-284f502d11d7",
   "metadata": {},
   "outputs": [],
   "source": [
    "# Create baseline response\n",
    "assistant = CreateAgent(new_chat=True)\n",
    "assistant.chat(initial_prompt)"
   ]
  },
  {
   "cell_type": "code",
   "execution_count": null,
   "id": "9886d67a-4f53-4b6b-a0b9-6446d2797310",
   "metadata": {},
   "outputs": [],
   "source": [
    "# Compare with previous attempt, ensure context is removed\n",
    "assistant = CreateAgent(new_chat=True)\n",
    "assistant.chat(finalized_prompt)"
   ]
  },
  {
   "cell_type": "code",
   "execution_count": null,
   "id": "d4db0e6c-2e81-4f26-b6fd-cb6d78095550",
   "metadata": {},
   "outputs": [],
   "source": []
  }
 ],
 "metadata": {
  "kernelspec": {
   "display_name": "Python 3 (ipykernel)",
   "language": "python",
   "name": "python3"
  },
  "language_info": {
   "codemirror_mode": {
    "name": "ipython",
    "version": 3
   },
   "file_extension": ".py",
   "mimetype": "text/x-python",
   "name": "python",
   "nbconvert_exporter": "python",
   "pygments_lexer": "ipython3",
   "version": "3.12.7"
  }
 },
 "nbformat": 4,
 "nbformat_minor": 5
}
