{
 "cells": [
  {
   "cell_type": "markdown",
   "id": "3d824fc2",
   "metadata": {},
   "source": [
    "# Example Worflow Using Multiple LLM Agents"
   ]
  },
  {
   "cell_type": "raw",
   "id": "cf7409c7-3c2b-4ec5-aff2-f869d848f80d",
   "metadata": {
    "vscode": {
     "languageId": "raw"
    }
   },
   "source": [
    "This notebook is an example of how you can use the <promptpal> package to quickly create specialized LLM agents to complete tasks alone or in cooperation with other agents you create. Each agent initialized below makes use of several of the built-in options in different ways tailored to the specific task they are meant for. By default for all agents, all text processing and response text are reported to StdOut (verbose=True) and saved to a log file (logging=True). Any generated code snippets are also saved to executable scripts in a new code folder in your working directory (save_code=True)."
   ]
  },
  {
   "cell_type": "code",
   "execution_count": 1,
   "id": "7907ea1d-e1d9-4b83-8fb2-6fd503095d9c",
   "metadata": {},
   "outputs": [],
   "source": [
    "# Import core class\n",
    "from promptpal.core import CreateAgent"
   ]
  },
  {
   "cell_type": "markdown",
   "id": "b425ee3b-ab70-4998-9f56-740abc4ae6aa",
   "metadata": {},
   "source": [
    "## Example 1:"
   ]
  },
  {
   "cell_type": "markdown",
   "id": "cdb9b7b7-c324-43af-ba4f-cb8dd36fbfec",
   "metadata": {},
   "source": [
    "### Take a beginner script, refactor it for improved standards and syntax, then build a lesson to teach the user better coding."
   ]
  },
  {
   "cell_type": "markdown",
   "id": "210ffcc6",
   "metadata": {},
   "source": [
    "#### Build a team with the expertise you need"
   ]
  },
  {
   "cell_type": "code",
   "execution_count": null,
   "id": "cbb2ec2a-768a-4e52-9778-8072262d5174",
   "metadata": {},
   "outputs": [],
   "source": [
    "# Code refactoring and formatting expert\n",
    "recoder = CreateAgent(role=\"refactor\", save_code=True)\n",
    "\n",
    "# Unit test generator\n",
    "tester = CreateAgent(role=\"tester\", save_code=True)\n",
    "\n",
    "# General lesson planner for college-level\n",
    "educator = CreateAgent(role=\"educator\")"
   ]
  },
  {
   "cell_type": "markdown",
   "id": "3a07c3e3",
   "metadata": {},
   "source": [
    "#### Submit requests to the new agents"
   ]
  },
  {
   "cell_type": "code",
   "execution_count": null,
   "id": "5e7900fc-c785-400d-9bd2-a275e3a5cfe2",
   "metadata": {},
   "outputs": [],
   "source": [
    "# Refactor the code to python best practices and document the changes\n",
    "request = \"\"\"\n",
    "The following python script\n",
    "Rewrite the code to follow better practices and be as much more concise. \n",
    "Thoroughly document and comment any changes.\n",
    "\n",
    "To be refactored:\n",
    "```python\n",
    "\n",
    "#!/usr/bin/python\n",
    "'''USAGE: annotate_fasta.py BLASToutput Fasta\n",
    "This script annotates a fasta file with sequence names determined from a BLAST of that file.\n",
    "'''\n",
    "import sys\n",
    "\n",
    "\n",
    "# Write dictionary from BLAST output\n",
    "with open(sys.argv[1],'r') as blast_output:\n",
    "        blast_dictionary = {}\n",
    "        gene_count = 0\n",
    "        for line in blast_output:\n",
    "                gene_count += 1\n",
    "                current = str(gene_count).zfill(9)\n",
    "                line = line.split()\n",
    "                query = line[0]\n",
    "                target = line[1]\n",
    "                evalue = line[10]\n",
    "                entry = target + '|evalue_' + str(evalue) + '|' + current\n",
    "                blast_dictionary[query] = entry\n",
    "\n",
    "\n",
    "# Parse the fasta file and print translated names and unchanged sequence data\n",
    "with open(sys.argv[2],'r') as input_fasta:\n",
    "        seq_count = 0\n",
    "        annotated = 0\n",
    "        key_errors = 0\n",
    "        hypothetical = 0\n",
    "        unknown = 0\n",
    "        uncharacterized = 0\n",
    "        outfile_name = str(sys.argv[2]).rstrip('fastn') + 'annotated.fasta'\n",
    "        output_fasta = open(outfile_name, 'w')\n",
    "\n",
    "        for line in input_fasta:\n",
    "\n",
    "                if str(line)[0] == '>':\n",
    "                        seq_count += 1\n",
    "                        entry = str(line).strip('>').strip()\n",
    "                        entry = entry.rstrip('\\n')\n",
    "\n",
    "                        try:\n",
    "                                blast_hit = blast_dictionary[entry]\n",
    "                                annotated += 1\n",
    "                                if 'hypothetical' in blast_hit: hypothetical += 1\n",
    "                                if 'unknown' in blast_hit: unknown += 1\n",
    "                                if 'uncharacterized' in blast_hit: uncharacterized += 1\n",
    "                        except KeyError:\n",
    "                                key_errors += 1\n",
    "                                blast_hit = entry + '|unknown:' + str(key_errors)\n",
    "\n",
    "                        final_entry = '>' + blast_hit + '\\n'\n",
    "                        output_fasta.write(final_entry)\n",
    "                        continue\n",
    "\n",
    "                else:\n",
    "                        output_fasta.write(line + '\\n')\n",
    "\n",
    "output_fasta.close()\n",
    "\n",
    "\n",
    "# Write some stats to a file about the success of the annotation\n",
    "logfile_name = str(sys.argv[2]).rstrip('fastn') + 'annotation_logfile.txt'\n",
    "with open(logfile_name,'w') as logfile:\n",
    "        logfile.write(str(seq_count) + ' total sequences.\\n')\n",
    "        logfile.write(str(key_errors) + ' sequences could not be annotated.\\n')\n",
    "        logfile.write(str(seq_count - key_errors) + ' sequences recieved some annotation.\\n')\n",
    "        logfile.write(str(hypothetical) + ' sequences annotated as hypothetical.\\n')\n",
    "        logfile.write(str(unknown) + ' sequences annotated as unknown function.\\n')\n",
    "        logfile.write(str(uncharacterized) + ' sequences annotated as uncharacterized.\\n')\n",
    "        logfile.write(str(annotated - hypothetical - unknown - uncharacterized) + ' sequences have an informative annotation.\\n')\n",
    "```\n",
    "\"\"\"\n",
    "recoder.chat(request)"
   ]
  },
  {
   "cell_type": "code",
   "execution_count": null,
   "id": "a008b5e3-c7a3-49a1-a1b5-cacc5fe69feb",
   "metadata": {},
   "outputs": [],
   "source": [
    "# Create unit tests\n",
    "tester.chat(\"Generate unit test for the newly optimized code and explicitly document the purpose of each test.\")"
   ]
  },
  {
   "cell_type": "code",
   "execution_count": null,
   "id": "5b8bd4e0-9114-4261-b80c-e08070e601b2",
   "metadata": {},
   "outputs": [],
   "source": [
    "#\n",
    "request = \"\"\"\n",
    "Create a short lesson plan for helping a beginner coder to master the python principles \n",
    "implemented in the refactored code and unit tests described previously.\n",
    "\"\"\"\n",
    "educator.chat(request)"
   ]
  },
  {
   "cell_type": "raw",
   "id": "26031680-8d72-4260-a4ee-28679241c49f",
   "metadata": {},
   "source": []
  },
  {
   "cell_type": "markdown",
   "id": "903b6d03-ff93-4cf7-b42b-892db902ad1c",
   "metadata": {},
   "source": [
    "## Example 2:"
   ]
  },
  {
   "cell_type": "markdown",
   "id": "54445a87-9e4e-4d8d-885a-ffbda08c1a02",
   "metadata": {},
   "source": [
    "### Create and streamline a new protocol for isolating viral capsid."
   ]
  },
  {
   "cell_type": "code",
   "execution_count": null,
   "id": "00637571-d2e6-434a-a07b-95b4993e301f",
   "metadata": {},
   "outputs": [],
   "source": [
    "# Molecular and synthetic biology expert\n",
    "bioworker = CreateAgent(role=\"bioworker\", model=\"gpt-4o\", refine=True, chain_of_thought=True)\n",
    "\n",
    "# Prompt engineering expert\n",
    "prompter = CreateAgent(role=\"prompt\", refine=True)\n",
    "\n",
    "# We will also create a new agent for lab logistics on the fly."
   ]
  },
  {
   "cell_type": "code",
   "execution_count": null,
   "id": "abd98184-f71a-4945-8bee-bdf22f7d4efd",
   "metadata": {},
   "outputs": [],
   "source": [
    "request = \"\"\"\n",
    "Write a system role for running logistics for a virology lab. \n",
    "The agent should be able to analyze a new wet lab protocol and create a list of necessary reagents and tools, \n",
    "then build a strategy for procurement of dispensable or non-reusable components. \n",
    "If possible, search online for providers with item or SKU numbers along with URLs to the product pages.\n",
    "\"\"\"\n",
    "prompter.chat(request)\n",
    "# Created the text contained in definition varaible in the next cell"
   ]
  },
  {
   "cell_type": "code",
   "execution_count": null,
   "id": "91693cfa-9528-4790-af29-934763a36b1d",
   "metadata": {},
   "outputs": [],
   "source": [
    "definition = \"\"\"\n",
    "**System Role: Logistics Coordinator for Virology Lab**\n",
    "\n",
    "**Role Overview:**\n",
    "The Logistics Coordinator is an AI-powered agent designed to streamline the operational efficiency of a virology lab by managing the procurement and inventory of reagents, tools, and consumables. \n",
    "The agent analyzes new wet lab protocols, identifies required materials, and develops a procurement strategy to ensure timely availability of resources. \n",
    "It also sources suppliers, provides SKU numbers, and links to product pages for seamless ordering.\n",
    "\n",
    "---\n",
    "\n",
    "### **Core Responsibilities:**\n",
    "\n",
    "1. **Protocol Analysis:**\n",
    "   - Analyze new wet lab protocols to identify all necessary reagents, tools, and consumables.\n",
    "   - Categorize items into reusable and non-reusable (dispensable) components.\n",
    "   - Highlight critical items with short shelf lives or long lead times.\n",
    "\n",
    "2. **Inventory Management:**\n",
    "   - Cross-check identified items against current lab inventory to avoid redundant purchases.\n",
    "   - Flag items that are low in stock or nearing expiration.\n",
    "\n",
    "3. **Procurement Strategy:**\n",
    "   - Prioritize items based on urgency, cost, and supplier availability.\n",
    "   - Identify cost-effective suppliers for each item, including bulk purchase discounts if applicable.\n",
    "   - Provide SKU numbers, product URLs, and pricing information for easy ordering.\n",
    "\n",
    "4. **Supplier Sourcing:**\n",
    "   - Search online for reputable suppliers (e.g., Fisher Scientific, Sigma-Aldrich, VWR, Thermo Fisher Scientific).\n",
    "   - Compare prices, shipping times, and minimum order quantities.\n",
    "   - Provide direct links to product pages for each item.\n",
    "\n",
    "5. **Documentation:**\n",
    "   - Generate a detailed procurement list with item names, quantities, supplier information, and estimated costs.\n",
    "   - Maintain a log of ordered items, expected delivery dates, and tracking information.\n",
    "\n",
    "6. **Communication:**\n",
    "   - Notify lab personnel of expected delivery timelines.\n",
    "   - Alert the team of any delays or backorders.\n",
    "\n",
    "---\n",
    "\n",
    "### **Example Workflow:**\n",
    "\n",
    "1. **Input:**\n",
    "   - A new wet lab protocol for \"Viral RNA Extraction and qPCR Analysis\" is provided.\n",
    "\n",
    "2. **Analysis:**\n",
    "   - Identify required reagents (e.g., TRIzol, chloroform, isopropanol, DNase/RNase-free water).\n",
    "   - Identify tools (e.g., microcentrifuge tubes, pipette tips, qPCR plates).\n",
    "   - Categorize items as reusable (e.g., pipettes) or dispensable (e.g., pipette tips).\n",
    "\n",
    "3. **Inventory Check:**\n",
    "   - Verify current stock levels for each item.\n",
    "   - Flag low-stock items (e.g., only 2 boxes of pipette tips remaining).\n",
    "\n",
    "4. **Procurement Plan:**\n",
    "   - Prioritize ordering TRIzol and qPCR plates due to long lead times.\n",
    "   - Source suppliers for each item:\n",
    "     - TRIzol: Fisher Scientific, SKU 15596026, [Product Link](https://www.fishersci.com)\n",
    "     - qPCR Plates: Thermo Fisher Scientific, SKU 4346906, [Product Link](https://www.thermofisher.com)\n",
    "   - Provide alternative suppliers for cost comparison.\n",
    "\n",
    "5. **Output:**\n",
    "   - Generate a procurement list with item names, quantities, SKUs, supplier links, and estimated costs.\n",
    "   - Notify the lab team of expected delivery dates.\n",
    "\n",
    "---\n",
    "\n",
    "### **Key Features:**\n",
    "- **Efficiency:** Minimizes downtime by ensuring timely procurement of lab materials.\n",
    "- **Cost-Effectiveness:** Identifies the best suppliers and bulk purchase options.\n",
    "- **Accuracy:** Reduces errors in ordering by providing precise SKU numbers and product links.\n",
    "- **Transparency:** Maintains clear documentation for audit and tracking purposes.\n",
    "\n",
    "---\n",
    "\n",
    "### **Example Output:**\n",
    "\n",
    "**Procurement List for \"Viral RNA Extraction and qPCR Analysis\" Protocol**\n",
    "\n",
    "| **Item**             | **Quantity** | **Supplier**            | **SKU**     | **Price** | **Product URL**                        |\n",
    "|----------------------|--------------|-------------------------|-------------|-----------|----------------------------------------|\n",
    "| TRIzol Reagent       | 5 bottles    | Fisher Scientific       | 15596026    | $250/each| [Link](https://www.fishersci.com)       |\n",
    "| qPCR Plates (96-well)| 10 plates    | Thermo Fisher Scientific| 4346906     | $50/each | [Link](https://www.thermofisher.com)    |\n",
    "| Pipette Tips (200µL) | 20 boxes     | VWR                     | 89079-454   | $20/each | [Link](https://www.vwr.com)             |\n",
    "| Chloroform           | 2 liters     | Sigma-Aldrich           | C2432       | $100/each| [Link](https://www.sigmaaldrich.com)    |\n",
    "\n",
    "**Total Estimated Cost:** $2,300  \n",
    "**Expected Delivery:** 5-7 business days  \n",
    "\n",
    "---\n",
    "\n",
    "This system role ensures the virology lab operates smoothly, with minimal delays and optimal resource management.\n",
    "\"\"\"\n",
    "logistics = CreateAgent(role=definition, refine=True)"
   ]
  },
  {
   "cell_type": "code",
   "execution_count": null,
   "id": "86caed75-43fc-4bbb-a33c-0d1f1df82cd0",
   "metadata": {},
   "outputs": [],
   "source": [
    "# Request a detailed protocol for a new laboraroty process\n",
    "request = \"\"\"\n",
    "Write a detailed protocol for cultivating, isolating, and transfecting mammalian cells with a new viral vector.\n",
    "The final objective is to express a unique heterologous gene set in primary mammalian cells.\n",
    "Make clear and reasoned choices for each strain or cell line used.\n",
    "Assume access to standard cell culture and microbiology equipment, as well as any molecular characterization tools that may be necessary or useful.\n",
    "\"\"\"\n",
    "bioworker.chat(request)"
   ]
  },
  {
   "cell_type": "code",
   "execution_count": null,
   "id": "9429e1e0-2e70-4f93-b372-db6aa4034c7e",
   "metadata": {},
   "outputs": [],
   "source": [
    "logistics.chat(\"Analyze the capsid isolation and transfection protocol described previously, and create a reagent and equipment list.\")"
   ]
  },
  {
   "cell_type": "raw",
   "id": "bff0fbef-239d-4332-8cf4-d84a4bf8ee1f",
   "metadata": {},
   "source": []
  },
  {
   "cell_type": "markdown",
   "id": "2d3f1d80-01f6-4c0a-aad8-38511bea02e3",
   "metadata": {},
   "source": [
    "## Example 3:"
   ]
  },
  {
   "cell_type": "markdown",
   "id": "73e3c5e5-8087-4d90-b754-d212aaf6400a",
   "metadata": {},
   "source": [
    "### Create a new web scraping app with clean code and the release announcments for your organization"
   ]
  },
  {
   "cell_type": "code",
   "execution_count": null,
   "id": "78ec5244-6889-4854-a27e-bed1e5e6e671",
   "metadata": {},
   "outputs": [],
   "source": [
    "# Sr. App Developer, with Chain of Thought Tracking and automated prompt refinement\n",
    "dev = CreateAgent(role=\"developer\", model=\"gpt-4o\", refine=True, chain_of_thought=True, save_code=True)\n",
    "# The more complex tasks are given to a larger model than the default gpt-4o-mini\n",
    "\n",
    "# Code refactoring and formatting expert\n",
    "recoder = CreateAgent(role=\"refactor\", save_code=True, silent=True)\n",
    "\n",
    "# Creative science and technology writer, with Chain of Thought Tracking, and multi-reponse concencus\n",
    "writer = CreateAgent(role=\"writer\", model=\"gpt-4o\", iterations=3, chain_of_thought=False, silent=True)\n",
    "\n",
    "# Expert copy editor\n",
    "editor = CreateAgent(role=\"editor\")\n",
    "\n",
    "# Custom role for condensing text into Slack posts\n",
    "definition = \"\"\"\n",
    "You are an expert in condensing text and providing summaries for posting to Slack channels.\n",
    "Begin by providing a brief summary of the text. Then, condense the text into a few key points. \n",
    "Finally, write a concise conclusion that captures the main ideas of the text.\n",
    "Remember to keep the summary clear, concise, and engaging.\n",
    "Use emojis where appropriate.\n",
    "Keep posts to a approximately 1 paragraph of 3-4 sentences.\n",
    "Add a @here mention at the beginning of the message to notify the channel members about the summary.\n",
    "\"\"\"\n",
    "slacker = CreateAgent(role=definition)"
   ]
  },
  {
   "cell_type": "code",
   "execution_count": 1,
   "id": "2ba4e1f7-4f0c-4d55-8942-8b7d113b3918",
   "metadata": {},
   "outputs": [],
   "source": [
    "# Create the problem statement for a computational project\n",
    "query = \"\"\"\n",
    "Write a Python script to scrape data from a set of webpages and reformat it into a structured dataframe for downstream analysis. \n",
    "The target webpages are product listings on an e-commerce website, and the data to be extracted includes: product name, price, description, and rating. \n",
    "Assume the webpages are accessible and do not require authentication.\n",
    "\n",
    "Requirements:\n",
    "    Use the requests library to fetch the webpage content and BeautifulSoup from bs4 for parsing HTML.\n",
    "    Handle potential issues such as missing data fields (e.g., if a product does not have a rating) gracefully.\n",
    "    Store the scraped data in a pandas dataframe with appropriate column names.\n",
    "    Include basic error handling (e.g., for network issues or invalid URLs).\n",
    "    Ensure the script respects the website's robots.txt file and includes a reasonable delay between requests to avoid overloading the server.\n",
    "    Do not scrape any personally identifiable information (PII) or sensitive data.\n",
    "    Include comments in the code to explain key steps.\n",
    "\n",
    "Example Input:\n",
    "    A list of URLs for product pages on an e-commerce site.\n",
    "\n",
    "Example Output:\n",
    "    A pandas dataframe with columns: product_name, price, description, and rating.\n",
    "\n",
    "Guardrails:\n",
    "    Do not scrape data at a frequency that could be considered abusive or violate the website's terms of service.\n",
    "    Include a disclaimer in the script comments reminding users to check the legality of scraping the target website and to obtain permission if necessary.\n",
    "    Do not hard-code any URLs or sensitive information into the script.\n",
    "\"\"\"\n",
    "\n",
    "# Give the initial request to the dev\n",
    "dev.chat(query)"
   ]
  },
  {
   "cell_type": "code",
   "execution_count": 1,
   "id": "5da7e518-a75e-4631-8d96-b3277b4b45c3",
   "metadata": {},
   "outputs": [],
   "source": [
    "# Create the problem statement for a computational project\n",
    "query = \"\"\"\n",
    "Write a Streamlit app that analyzes data and displays results based dataframes containing product information. \n",
    "This app should be able to compare product categories and providers against one another.\n",
    "It should be capable of basic statistical analysis\n",
    "\n",
    "Requirements:\n",
    "    Use the Streamlit library to create an interface for analysis of dataframes of product data.\n",
    "    Include statistical analysis of numeric data, render results in at least two types of figures and one summary table.\n",
    "    Use another type of summary figure applied to the non-numeric data included in the dataframes.\n",
    "    Also inclue options for hosting remotely, but assume the app will mostyly be initialized and run locally.\n",
    "    Add comments in the code to explain key steps.\n",
    "\n",
    "Example Input:\n",
    "    A pandas dataframe with columns: product_name, price, description, and rating.\n",
    "\n",
    "Example Output:\n",
    "    An interactive Streamlit app displaying interactive figures and summary tables.\n",
    "\n",
    "Guardrails:\n",
    "    Encourage modular code for easier maintenance and debugging.\n",
    "    Ensure the app includes proper error handling and user-friendly messages.\n",
    "    Optimize for performance, especially if the app processes large datasets.\n",
    "\"\"\"\n",
    "\n",
    "# Give the initial request to the dev\n",
    "dev.chat(query)"
   ]
  },
  {
   "cell_type": "code",
   "execution_count": null,
   "id": "bd1e145f-a065-4ec2-acbf-268524275d68",
   "metadata": {},
   "outputs": [],
   "source": [
    "# Optimize and document any new code\n",
    "recoder.chat(\"Refactor the previously generated code into a single platform, and when possible seeks to optimize efficiency, useability, and documentation.\")"
   ]
  },
  {
   "cell_type": "code",
   "execution_count": null,
   "id": "37e4c693-a87e-4778-9f3a-afeb949e4805",
   "metadata": {},
   "outputs": [],
   "source": [
    "# Utilize the writer agent to generate an informed post on the background and utility of the newly created pipeline\n",
    "query = \"\"\"\n",
    "Write a technology blog post about the content of the conversation and refactored code.\n",
    "Include relevant background that would necessitate this type of analysis, and add at least one example use case for the platform.\n",
    "Extrapolate how the application may be useful to organizations, and what future improvements could be made with continued work.\n",
    "The resulting post should be at least 3 paragraphs long with 4-5 sentences in each.\n",
    "Speak in a conversational tone and cite all sources with biological relevance to you discussion.\n",
    "\"\"\"\n",
    "writer.chat(query)"
   ]
  },
  {
   "cell_type": "code",
   "execution_count": null,
   "id": "9c76308a-1c51-45c6-ad0c-a0e6f0cea8e7",
   "metadata": {},
   "outputs": [],
   "source": [
    "# Pass the rough draft text to the editor agent to recieve a more finalize version\n",
    "editor.chat(\"Rewrite the previous blog post for maximum readability for a general audience.\")"
   ]
  },
  {
   "cell_type": "code",
   "execution_count": null,
   "id": "3d3e2ac8-983e-453c-850f-a47f24c4c7d4",
   "metadata": {},
   "outputs": [],
   "source": [
    "# Create a Slack post summarizing the finalized text\n",
    "slacker.chat(\"Create a Slack announcement for the finalized blog post.\")"
   ]
  },
  {
   "cell_type": "raw",
   "id": "8406fa5e-560c-4f3d-9846-8cabb40b18cd",
   "metadata": {},
   "source": []
  }
 ],
 "metadata": {
  "kernelspec": {
   "display_name": "Python 3 (ipykernel)",
   "language": "python",
   "name": "python3"
  },
  "language_info": {
   "codemirror_mode": {
    "name": "ipython",
    "version": 3
   },
   "file_extension": ".py",
   "mimetype": "text/x-python",
   "name": "python",
   "nbconvert_exporter": "python",
   "pygments_lexer": "ipython3",
   "version": "3.12.7"
  }
 },
 "nbformat": 4,
 "nbformat_minor": 5
}
